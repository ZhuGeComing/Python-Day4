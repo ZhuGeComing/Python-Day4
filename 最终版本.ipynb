{
 "cells": [
  {
   "cell_type": "code",
   "execution_count": 35,
   "metadata": {
    "collapsed": true
   },
   "outputs": [],
   "source": [
    "import pandas as pd\n",
    "import numpy as np\n",
    "import matplotlib.pyplot as plt\n",
    "from sklearn.preprocessing import StandardScaler, Normalizer\n",
    "from sklearn.linear_model import LogisticRegression\n"
   ]
  },
  {
   "cell_type": "code",
   "execution_count": 19,
   "metadata": {},
   "outputs": [],
   "source": [
    "trainData = pd.read_csv('horseColicTraining.txt', delimiter='\\t', header=None)\n",
    "testData = pd.read_csv('horseColicTest.txt', delimiter='\\t', header=None)\n",
    "X_train, X_test = trainData.iloc[:, :-1], testData.iloc[:, :-1]\n",
    "y_train, y_test = trainData.iloc[:, -1], testData.iloc[:, -1]"
   ]
  },
  {
   "cell_type": "code",
   "execution_count": 29,
   "metadata": {},
   "outputs": [
    {
     "data": {
      "text/plain": [
       "0.7313432835820896"
      ]
     },
     "execution_count": 29,
     "metadata": {},
     "output_type": "execute_result"
    }
   ],
   "source": [
    "clf = LogisticRegression()\n",
    "clf.fit(X_train, y_train)\n",
    "clf.score(X_test, y_test)"
   ]
  },
  {
   "cell_type": "code",
   "execution_count": 42,
   "metadata": {},
   "outputs": [
    {
     "data": {
      "text/plain": [
       "0.7313432835820896"
      ]
     },
     "execution_count": 42,
     "metadata": {},
     "output_type": "execute_result"
    }
   ],
   "source": [
    "scaler = Normalizer(norm='l2').fit(X_train)\n",
    "normalized_X_train,  normalized_X_test= scaler.transform(X_train), scaler.transform(X_test)\n",
    "clf1 = LogisticRegression()\n",
    "clf1.fit(normalized_X_train, y_train)\n",
    "clf1.score(normalized_X_test, y_test)"
   ]
  },
  {
   "cell_type": "code",
   "execution_count": 43,
   "metadata": {},
   "outputs": [
    {
     "data": {
      "text/plain": [
       "0.7164179104477612"
      ]
     },
     "execution_count": 43,
     "metadata": {},
     "output_type": "execute_result"
    }
   ],
   "source": [
    "scaler = StandardScaler().fit(X_train)\n",
    "normalized_X_train,  normalized_X_test= scaler.transform(X_train), scaler.transform(X_test)\n",
    "clf1 = LogisticRegression()\n",
    "clf1.fit(normalized_X_train, y_train)\n",
    "clf1.score(normalized_X_test, y_test)"
   ]
  },
  {
   "attachments": {},
   "cell_type": "markdown",
   "metadata": {},
   "source": [
    "标准化StandardScaler\n",
    "x* = (x - μ) /σ\n",
    "标准差标准化也叫作Z-zero标准化，经过处理的数据会符合标准正态分布，即均值为0，方差为1。转化函数为：\n",
    "\n",
    "归一化\n",
    "归一化就是将所有特征值都等比地缩小到0-1之间的区间内\n",
    "\n",
    "正则化Normalizer\n",
    "若为l1时，样本各个特征值除以各个特征值的绝对值之和\n",
    "\n",
    "若为l2时，样本各个特征值除以各个特征值的平方之和\n",
    "\n",
    "若为max时，样本各个特征值除以样本中特征值最大的值\n",
    "\n",
    "##并不能使他的分类准确度上升"
   ]
  },
  {
   "cell_type": "code",
   "execution_count": 79,
   "metadata": {},
   "outputs": [
    {
     "data": {
      "text/html": [
       "<div>\n",
       "<style scoped>\n",
       "    .dataframe tbody tr th:only-of-type {\n",
       "        vertical-align: middle;\n",
       "    }\n",
       "\n",
       "    .dataframe tbody tr th {\n",
       "        vertical-align: top;\n",
       "    }\n",
       "\n",
       "    .dataframe thead th {\n",
       "        text-align: right;\n",
       "    }\n",
       "</style>\n",
       "<table border=\"1\" class=\"dataframe\">\n",
       "  <thead>\n",
       "    <tr style=\"text-align: right;\">\n",
       "      <th></th>\n",
       "      <th>Unnamed: 0</th>\n",
       "      <th>Unnamed: 1</th>\n",
       "      <th>Unnamed: 2</th>\n",
       "      <th>Unnamed: 3</th>\n",
       "      <th>Unnamed: 4</th>\n",
       "      <th>Unnamed: 5</th>\n",
       "      <th>Unnamed: 6</th>\n",
       "      <th>Unnamed: 7</th>\n",
       "      <th>Unnamed: 8</th>\n",
       "      <th>Unnamed: 9</th>\n",
       "      <th>...</th>\n",
       "      <th>Unnamed: 18</th>\n",
       "      <th>Unnamed: 19</th>\n",
       "      <th>Unnamed: 20</th>\n",
       "      <th>Unnamed: 21</th>\n",
       "      <th>Unnamed: 22</th>\n",
       "      <th>Unnamed: 23</th>\n",
       "      <th>Unnamed: 24</th>\n",
       "      <th>Unnamed: 25</th>\n",
       "      <th>Unnamed: 26</th>\n",
       "      <th>Unnamed: 27</th>\n",
       "    </tr>\n",
       "  </thead>\n",
       "  <tbody>\n",
       "    <tr>\n",
       "      <th>0</th>\n",
       "      <td>2.0</td>\n",
       "      <td>1</td>\n",
       "      <td>528626</td>\n",
       "      <td>38.5</td>\n",
       "      <td>54.0</td>\n",
       "      <td>20.0</td>\n",
       "      <td>2.389831</td>\n",
       "      <td>1.000000</td>\n",
       "      <td>2.0</td>\n",
       "      <td>2.0</td>\n",
       "      <td>...</td>\n",
       "      <td>42.0</td>\n",
       "      <td>6.3</td>\n",
       "      <td>2.076923</td>\n",
       "      <td>2.712903</td>\n",
       "      <td>1.0</td>\n",
       "      <td>2</td>\n",
       "      <td>3111</td>\n",
       "      <td>0</td>\n",
       "      <td>0</td>\n",
       "      <td>1</td>\n",
       "    </tr>\n",
       "    <tr>\n",
       "      <th>1</th>\n",
       "      <td>2.0</td>\n",
       "      <td>1</td>\n",
       "      <td>527950</td>\n",
       "      <td>37.6</td>\n",
       "      <td>48.0</td>\n",
       "      <td>36.0</td>\n",
       "      <td>2.389831</td>\n",
       "      <td>1.722222</td>\n",
       "      <td>1.0</td>\n",
       "      <td>1.0</td>\n",
       "      <td>...</td>\n",
       "      <td>44.0</td>\n",
       "      <td>6.3</td>\n",
       "      <td>1.000000</td>\n",
       "      <td>5.000000</td>\n",
       "      <td>1.0</td>\n",
       "      <td>2</td>\n",
       "      <td>3111</td>\n",
       "      <td>0</td>\n",
       "      <td>0</td>\n",
       "      <td>1</td>\n",
       "    </tr>\n",
       "    <tr>\n",
       "      <th>2</th>\n",
       "      <td>1.0</td>\n",
       "      <td>1</td>\n",
       "      <td>535263</td>\n",
       "      <td>37.7</td>\n",
       "      <td>44.0</td>\n",
       "      <td>28.0</td>\n",
       "      <td>2.389831</td>\n",
       "      <td>4.000000</td>\n",
       "      <td>3.0</td>\n",
       "      <td>2.0</td>\n",
       "      <td>...</td>\n",
       "      <td>45.0</td>\n",
       "      <td>70.0</td>\n",
       "      <td>3.000000</td>\n",
       "      <td>2.000000</td>\n",
       "      <td>1.0</td>\n",
       "      <td>1</td>\n",
       "      <td>3205</td>\n",
       "      <td>0</td>\n",
       "      <td>0</td>\n",
       "      <td>2</td>\n",
       "    </tr>\n",
       "    <tr>\n",
       "      <th>3</th>\n",
       "      <td>1.0</td>\n",
       "      <td>1</td>\n",
       "      <td>534523</td>\n",
       "      <td>37.0</td>\n",
       "      <td>56.0</td>\n",
       "      <td>24.0</td>\n",
       "      <td>3.000000</td>\n",
       "      <td>1.000000</td>\n",
       "      <td>4.0</td>\n",
       "      <td>2.0</td>\n",
       "      <td>...</td>\n",
       "      <td>35.0</td>\n",
       "      <td>61.0</td>\n",
       "      <td>3.000000</td>\n",
       "      <td>2.000000</td>\n",
       "      <td>3.0</td>\n",
       "      <td>2</td>\n",
       "      <td>2205</td>\n",
       "      <td>2208</td>\n",
       "      <td>0</td>\n",
       "      <td>2</td>\n",
       "    </tr>\n",
       "    <tr>\n",
       "      <th>4</th>\n",
       "      <td>2.0</td>\n",
       "      <td>1</td>\n",
       "      <td>528926</td>\n",
       "      <td>38.0</td>\n",
       "      <td>42.0</td>\n",
       "      <td>12.0</td>\n",
       "      <td>3.000000</td>\n",
       "      <td>1.722222</td>\n",
       "      <td>3.0</td>\n",
       "      <td>1.0</td>\n",
       "      <td>...</td>\n",
       "      <td>37.0</td>\n",
       "      <td>5.8</td>\n",
       "      <td>2.076923</td>\n",
       "      <td>2.712903</td>\n",
       "      <td>1.0</td>\n",
       "      <td>2</td>\n",
       "      <td>3111</td>\n",
       "      <td>0</td>\n",
       "      <td>0</td>\n",
       "      <td>2</td>\n",
       "    </tr>\n",
       "  </tbody>\n",
       "</table>\n",
       "<p>5 rows × 28 columns</p>\n",
       "</div>"
      ],
      "text/plain": [
       "   Unnamed: 0  Unnamed: 1  Unnamed: 2  Unnamed: 3  Unnamed: 4  Unnamed: 5  \\\n",
       "0         2.0           1      528626        38.5        54.0        20.0   \n",
       "1         2.0           1      527950        37.6        48.0        36.0   \n",
       "2         1.0           1      535263        37.7        44.0        28.0   \n",
       "3         1.0           1      534523        37.0        56.0        24.0   \n",
       "4         2.0           1      528926        38.0        42.0        12.0   \n",
       "\n",
       "   Unnamed: 6  Unnamed: 7  Unnamed: 8  Unnamed: 9     ...       Unnamed: 18  \\\n",
       "0    2.389831    1.000000         2.0         2.0     ...              42.0   \n",
       "1    2.389831    1.722222         1.0         1.0     ...              44.0   \n",
       "2    2.389831    4.000000         3.0         2.0     ...              45.0   \n",
       "3    3.000000    1.000000         4.0         2.0     ...              35.0   \n",
       "4    3.000000    1.722222         3.0         1.0     ...              37.0   \n",
       "\n",
       "   Unnamed: 19  Unnamed: 20  Unnamed: 21  Unnamed: 22  Unnamed: 23  \\\n",
       "0          6.3     2.076923     2.712903          1.0            2   \n",
       "1          6.3     1.000000     5.000000          1.0            2   \n",
       "2         70.0     3.000000     2.000000          1.0            1   \n",
       "3         61.0     3.000000     2.000000          3.0            2   \n",
       "4          5.8     2.076923     2.712903          1.0            2   \n",
       "\n",
       "   Unnamed: 24  Unnamed: 25  Unnamed: 26  Unnamed: 27  \n",
       "0         3111            0            0            1  \n",
       "1         3111            0            0            1  \n",
       "2         3205            0            0            2  \n",
       "3         2205         2208            0            2  \n",
       "4         3111            0            0            2  \n",
       "\n",
       "[5 rows x 28 columns]"
      ]
     },
     "execution_count": 79,
     "metadata": {},
     "output_type": "execute_result"
    }
   ],
   "source": [
    "trainData = pd.read_csv('horse-colic.csv')\n",
    "testData = pd.read_csv('horse-colic_test.csv')\n",
    "# X_train, X_test = trainData.iloc[:, :-1], testData.iloc[:, :-1]\n",
    "# y_train, y_test = trainData.iloc[:, -1], testData.iloc[:, -1]\n",
    "trainData = trainData.fillna(trainData.mean())\n",
    "testData = testData.fillna(testData.mean())\n",
    "testData.head()"
   ]
  },
  {
   "cell_type": "code",
   "execution_count": 80,
   "metadata": {},
   "outputs": [],
   "source": [
    "for i in [2,24,25,26,27]:\n",
    "    trainData = trainData.drop('Unnamed: %d'%i, axis=1)\n",
    "    testData = testData.drop('Unnamed: %d'%i, axis=1)"
   ]
  },
  {
   "cell_type": "code",
   "execution_count": 82,
   "metadata": {},
   "outputs": [],
   "source": [
    "trainData\n",
    "X_train, X_test = trainData.iloc[:, :-1], testData.iloc[:, :-1]\n",
    "y_train, y_test = trainData.iloc[:, -1], testData.iloc[:, -1]"
   ]
  },
  {
   "cell_type": "code",
   "execution_count": 83,
   "metadata": {},
   "outputs": [
    {
     "data": {
      "text/plain": [
       "0.8676470588235294"
      ]
     },
     "execution_count": 83,
     "metadata": {},
     "output_type": "execute_result"
    }
   ],
   "source": [
    "clf = LogisticRegression()\n",
    "clf.fit(X_train, y_train)\n",
    "clf.score(X_test, y_test)"
   ]
  },
  {
   "cell_type": "code",
   "execution_count": 84,
   "metadata": {},
   "outputs": [
    {
     "data": {
      "text/plain": [
       "0.5588235294117647"
      ]
     },
     "execution_count": 84,
     "metadata": {},
     "output_type": "execute_result"
    }
   ],
   "source": [
    "scaler = Normalizer(norm='l2').fit(X_train)\n",
    "normalized_X_train,  normalized_X_test= scaler.transform(X_train), scaler.transform(X_test)\n",
    "clf1 = LogisticRegression()\n",
    "clf1.fit(normalized_X_train, y_train)\n",
    "clf1.score(normalized_X_test, y_test)"
   ]
  },
  {
   "cell_type": "code",
   "execution_count": 85,
   "metadata": {},
   "outputs": [
    {
     "data": {
      "text/plain": [
       "0.8676470588235294"
      ]
     },
     "execution_count": 85,
     "metadata": {},
     "output_type": "execute_result"
    }
   ],
   "source": [
    "scaler = StandardScaler().fit(X_train)\n",
    "normalized_X_train,  normalized_X_test= scaler.transform(X_train), scaler.transform(X_test)\n",
    "clf1 = LogisticRegression()\n",
    "clf1.fit(normalized_X_train, y_train)\n",
    "clf1.score(normalized_X_test, y_test)"
   ]
  }
 ],
 "metadata": {
  "anaconda-cloud": {},
  "kernelspec": {
   "display_name": "Python [conda root]",
   "language": "python",
   "name": "conda-root-py"
  },
  "language_info": {
   "codemirror_mode": {
    "name": "ipython",
    "version": 3
   },
   "file_extension": ".py",
   "mimetype": "text/x-python",
   "name": "python",
   "nbconvert_exporter": "python",
   "pygments_lexer": "ipython3",
   "version": "3.5.5"
  }
 },
 "nbformat": 4,
 "nbformat_minor": 1
}
